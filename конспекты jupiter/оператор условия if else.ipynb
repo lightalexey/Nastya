{
 "cells": [
  {
   "cell_type": "code",
   "execution_count": 1,
   "id": "70e453b0",
   "metadata": {},
   "outputs": [
    {
     "name": "stdout",
     "output_type": "stream",
     "text": [
      "Введи а=3\n",
      "Введи b=2\n",
      "a>b\n"
     ]
    }
   ],
   "source": [
    "a = input('Введи а=')\n",
    "b = input('Введи b=')\n",
    "if a > b:\n",
    "    print('a>b')\n",
    "else:\n",
    "    print('a меньше b')"
   ]
  },
  {
   "cell_type": "code",
   "execution_count": 2,
   "id": "02296ab5",
   "metadata": {},
   "outputs": [
    {
     "name": "stdout",
     "output_type": "stream",
     "text": [
      "Введи а=5\n",
      "Введи b=5\n",
      "a меньше b\n"
     ]
    }
   ],
   "source": [
    "a = input('Введи а=')\n",
    "b = input('Введи b=')\n",
    "if a > b:\n",
    "    print('a>b')\n",
    "else:\n",
    "    print('a меньше b')"
   ]
  },
  {
   "cell_type": "code",
   "execution_count": 3,
   "id": "ccc79ea5",
   "metadata": {},
   "outputs": [
    {
     "name": "stdout",
     "output_type": "stream",
     "text": [
      "Введи а=5\n",
      "Введи b=5\n",
      "числа равны\n"
     ]
    }
   ],
   "source": [
    "a = input('Введи а=')\n",
    "b = input('Введи b=')\n",
    "if a > b:\n",
    "    print('a>b')\n",
    "else:\n",
    "    if a < b:\n",
    "        print('a меньше b')\n",
    "    else:\n",
    "        print('числа равны')"
   ]
  },
  {
   "cell_type": "code",
   "execution_count": null,
   "id": "1ed42ecf",
   "metadata": {},
   "outputs": [],
   "source": []
  }
 ],
 "metadata": {
  "kernelspec": {
   "display_name": "Python 3",
   "language": "python",
   "name": "python3"
  },
  "language_info": {
   "codemirror_mode": {
    "name": "ipython",
    "version": 3
   },
   "file_extension": ".py",
   "mimetype": "text/x-python",
   "name": "python",
   "nbconvert_exporter": "python",
   "pygments_lexer": "ipython3",
   "version": "3.8.8"
  }
 },
 "nbformat": 4,
 "nbformat_minor": 5
}
